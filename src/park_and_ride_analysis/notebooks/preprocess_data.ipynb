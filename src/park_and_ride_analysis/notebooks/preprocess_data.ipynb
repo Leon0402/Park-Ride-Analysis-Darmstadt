{
 "cells": [
  {
   "cell_type": "markdown",
   "metadata": {},
   "source": [
    "# Preprocess Data\n",
    "\n",
    "This notebook preprocesses the raw data and fixes encoding, data structure and enhances the data with additional data properties such as coordinates of the city."
   ]
  },
  {
   "cell_type": "code",
   "execution_count": 1,
   "metadata": {},
   "outputs": [],
   "source": [
    "from pathlib import Path\n",
    "import park_and_ride_analysis\n",
    "\n",
    "module_dir = Path(park_and_ride_analysis.__file__).parent\n",
    "project_dir = module_dir.parent.parent\n",
    "data_dir = project_dir / \"data\"\n",
    "\n",
    "file_name = \"einpendelverflechtungen_darmstadt_2021.csv\"\n",
    "raw_data = data_dir / \"raw\" / file_name\n",
    "processed_data = data_dir / \"processed\" / file_name\n",
    "\n",
    "darmstadt_coords = (49.8728, 8.6512)"
   ]
  },
  {
   "cell_type": "code",
   "execution_count": 2,
   "metadata": {},
   "outputs": [],
   "source": [
    "import pandas as pd\n",
    "\n",
    "df = pd.read_csv(\n",
    "    raw_data, delimiter=';', engine=\"python\", encoding='iso-8859-1', skiprows=9, names=[\n",
    "        'Wohnort (Code)',\n",
    "        'Wohnort',\n",
    "        'Gesamt (Anzahl)',\n",
    "        'Männlich (Anzahl)',\n",
    "        'Weiblich (Anzahl)',\n",
    "        'Anteil (Prozent)',\n",
    "        'Luftlinienentfernung (km)',\n",
    "    ], skipfooter=4, na_values=[\"-\", \".\", \"x\"], dtype={\"Wohnort (Code)\": str}, decimal=\",\"\n",
    ")"
   ]
  },
  {
   "cell_type": "code",
   "execution_count": 11,
   "metadata": {},
   "outputs": [
    {
     "name": "stderr",
     "output_type": "stream",
     "text": [
      "100%|██████████| 167/167 [03:03<00:00,  1.10s/it]\n"
     ]
    }
   ],
   "source": [
    "import geopy.geocoders\n",
    "from tqdm import tqdm\n",
    "import time\n",
    "\n",
    "tqdm.pandas()\n",
    "\n",
    "geolocator = geopy.geocoders.Nominatim(user_agent=\"tpte_project\")\n",
    "\n",
    "def get_coordinates(place: str) -> tuple[float, float]:\n",
    "    # delay for quota limits\n",
    "    time.sleep(1)\n",
    "    try:\n",
    "        location = geolocator.geocode(f\"{place.split(',')[0]}, Deutschland\")\n",
    "        return (location.latitude, location.longitude) if location else (None, None)\n",
    "    except Exception as e:\n",
    "        print(f\"Error getting coordinates for {place}: {e}\")\n",
    "        return (None, None)\n",
    "\n",
    "# Calculate coordinates only for interesting cities, because of quota limits\n",
    "filtered_df = df[df['Anteil (Prozent)'] > 0.0]\n",
    "df.loc[filtered_df.index, 'coordinates'] = filtered_df['Wohnort'].progress_apply(lambda x: get_coordinates(x))"
   ]
  },
  {
   "cell_type": "code",
   "execution_count": 12,
   "metadata": {},
   "outputs": [],
   "source": [
    "df.to_csv(processed_data, index=False)"
   ]
  }
 ],
 "metadata": {
  "kernelspec": {
   "display_name": ".venv",
   "language": "python",
   "name": "python3"
  },
  "language_info": {
   "codemirror_mode": {
    "name": "ipython",
    "version": 3
   },
   "file_extension": ".py",
   "mimetype": "text/x-python",
   "name": "python",
   "nbconvert_exporter": "python",
   "pygments_lexer": "ipython3",
   "version": "3.12.4"
  }
 },
 "nbformat": 4,
 "nbformat_minor": 2
}
