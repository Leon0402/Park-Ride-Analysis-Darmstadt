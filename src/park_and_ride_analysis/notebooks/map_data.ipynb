{
 "cells": [
  {
   "cell_type": "markdown",
   "metadata": {},
   "source": [
    "# Map Data\n",
    "\n",
    "The following notebook downloads road data from osmx for Darmstadt and its surroundings."
   ]
  },
  {
   "cell_type": "code",
   "execution_count": 1,
   "metadata": {},
   "outputs": [],
   "source": [
    "from pathlib import Path\n",
    "import park_and_ride_analysis\n",
    "import osmnx as ox\n",
    "\n",
    "module_dir = Path(park_and_ride_analysis.__file__).parent\n",
    "project_dir = module_dir.parent.parent\n",
    "data_dir = project_dir / \"data\"\n",
    "\n",
    "distance = 50\n",
    "\n",
    "file_name = f\"darmstadt_drive_{distance}km.graphml\"\n",
    "processed_data = data_dir / \"processed\" / file_name\n",
    "\n",
    "graph = ox.graph_from_address(\"Darmstadt, Germany\", dist=distance*1000, network_type='drive')\n",
    "ox.save_graphml(graph, filepath=processed_data)"
   ]
  }
 ],
 "metadata": {
  "kernelspec": {
   "display_name": ".venv",
   "language": "python",
   "name": "python3"
  },
  "language_info": {
   "codemirror_mode": {
    "name": "ipython",
    "version": 3
   },
   "file_extension": ".py",
   "mimetype": "text/x-python",
   "name": "python",
   "nbconvert_exporter": "python",
   "pygments_lexer": "ipython3",
   "version": "3.12.4"
  }
 },
 "nbformat": 4,
 "nbformat_minor": 2
}
